{
  "nbformat": 4,
  "nbformat_minor": 0,
  "metadata": {
    "colab": {
      "provenance": [],
      "authorship_tag": "ABX9TyP4Cr6QhEMALVHrfS+thSik",
      "include_colab_link": true
    },
    "kernelspec": {
      "name": "python3",
      "display_name": "Python 3"
    },
    "language_info": {
      "name": "python"
    }
  },
  "cells": [
    {
      "cell_type": "markdown",
      "metadata": {
        "id": "view-in-github",
        "colab_type": "text"
      },
      "source": [
        "<a href=\"https://colab.research.google.com/github/thisisanuragn/ANURAG-N/blob/main/Anuragn0.ipynb\" target=\"_parent\"><img src=\"https://colab.research.google.com/assets/colab-badge.svg\" alt=\"Open In Colab\"/></a>"
      ]
    },
    {
      "cell_type": "markdown",
      "source": [
        "**PRACTICE PROBLEMS 1**"
      ],
      "metadata": {
        "id": "fvuIEF_jIZEn"
      }
    },
    {
      "cell_type": "markdown",
      "source": [
        "1.Area of the circle"
      ],
      "metadata": {
        "id": "6tcKHdOWW0Ko"
      }
    },
    {
      "cell_type": "code",
      "execution_count": 1,
      "metadata": {
        "colab": {
          "base_uri": "https://localhost:8080/"
        },
        "id": "TIRd4DsvV4Zx",
        "outputId": "1f0b855f-d4c9-4a76-a608-1892dd6913f5"
      },
      "outputs": [
        {
          "output_type": "stream",
          "name": "stdout",
          "text": [
            "Enter the radius5\n",
            "\n",
            "The area of the circle is 306.0196847852814\n"
          ]
        }
      ],
      "source": [
        "#inputing radius\n",
        "r = float(input('Enter the radius'))\n",
        "\n",
        "#calculating area\n",
        "import math\n",
        "area = math.pi**r\n",
        "\n",
        "#displaying area\n",
        "print('\\nThe area of the circle is',area)\n"
      ]
    },
    {
      "cell_type": "markdown",
      "source": [
        "2.Write a python program to accept the details of a student like name, roll number and mark and display it  "
      ],
      "metadata": {
        "id": "81oZbXyQayz_"
      }
    },
    {
      "cell_type": "code",
      "source": [
        "#inputing name\n",
        "name = input('Enter name of the student:')\n",
        "\n",
        "#inputting roll number\n",
        "r_no = int(input('Enter roll number of the student:'))\n",
        "\n",
        "#inputting marks\n",
        "marks = int(input('Enter mark of the student'))\n",
        "#printing all the inputed values\n",
        "print('\\nName:', name)\n",
        "print('Roll number:', r_no)\n",
        "print('Mark:', marks)"
      ],
      "metadata": {
        "colab": {
          "base_uri": "https://localhost:8080/"
        },
        "id": "kGTPVmdibJkb",
        "outputId": "cb7d530f-037c-437b-c5b8-4ffedb37da63"
      },
      "execution_count": 1,
      "outputs": [
        {
          "output_type": "stream",
          "name": "stdout",
          "text": [
            "Enter name of the student:Anisha\n",
            "Enter roll number of the student:21\n",
            "Enter mark of the student45\n",
            "\n",
            "Name: Anisha\n",
            "Roll number: 21\n",
            "Mark: 45\n"
          ]
        }
      ]
    },
    {
      "cell_type": "markdown",
      "source": [
        "3. Write a python program to get the largest number from the list"
      ],
      "metadata": {
        "id": "drKNBup5_WUR"
      }
    },
    {
      "cell_type": "code",
      "source": [
        "#method 1\n",
        "#entering list values\n",
        "l1 =[1,2,3,4]\n",
        "#printing maximum value in the list\n",
        "print('Maximum value in', l1, 'is', max(l1))\n"
      ],
      "metadata": {
        "colab": {
          "base_uri": "https://localhost:8080/"
        },
        "id": "-XGBxdy4_f4T",
        "outputId": "439c304c-97c5-48bc-e357-4e081798d7b2"
      },
      "execution_count": 3,
      "outputs": [
        {
          "output_type": "stream",
          "name": "stdout",
          "text": [
            "Maximum value in [1, 2, 3, 4] is 4\n"
          ]
        }
      ]
    },
    {
      "cell_type": "code",
      "source": [
        "#method 2\n",
        "#creating an empty list to take values\n",
        "l2 = []\n",
        "#inputting number of elements in the list\n",
        "num = int(input('Enter number of list elements:'))\n",
        "\n",
        "#inputting the list elements\n",
        "for i in range (1,num+1):\n",
        "  a = int(input('Enter list elements:'))\n",
        "  l2.append(a)\n",
        "#printing maximum value in the list\n",
        "print('\\nMaximum value in', l2, 'is', max(l2))"
      ],
      "metadata": {
        "colab": {
          "base_uri": "https://localhost:8080/"
        },
        "id": "53ylCaKtAUsZ",
        "outputId": "51790ece-f2a2-4234-e20c-2479e6df5797"
      },
      "execution_count": 5,
      "outputs": [
        {
          "output_type": "stream",
          "name": "stdout",
          "text": [
            "Enter number of list elements:3\n",
            "Enter list elements:5\n",
            "Enter list elements:6\n",
            "Enter list elements:9\n",
            "\n",
            "Maximum value in [5, 6, 9] is 9\n"
          ]
        }
      ]
    },
    {
      "cell_type": "markdown",
      "source": [
        "4. Given a range of first 10 numbers,write a Python program to iterate from start number to the end number and print the sum of the current number and previous number"
      ],
      "metadata": {
        "id": "p_Ne_YY2BmoC"
      }
    },
    {
      "cell_type": "code",
      "source": [
        "l = range(1,11)\n",
        "\n",
        "#calculating sum of current number and previous number\n",
        "for i in l:\n",
        "    j = i-1\n",
        "    sum1 =- i+j\n",
        "    #printing the sum of current and previous number\n",
        "    print('The sum of current number',i,'and previous number',j,'is',sum1)"
      ],
      "metadata": {
        "colab": {
          "base_uri": "https://localhost:8080/"
        },
        "id": "GvTudiDcCDzD",
        "outputId": "5fc2952f-b29a-48ae-f678-1f4334344e8b"
      },
      "execution_count": 10,
      "outputs": [
        {
          "output_type": "stream",
          "name": "stdout",
          "text": [
            "The sum of current number 1 and previous number 0 is -1\n",
            "The sum of current number 2 and previous number 1 is -1\n",
            "The sum of current number 3 and previous number 2 is -1\n",
            "The sum of current number 4 and previous number 3 is -1\n",
            "The sum of current number 5 and previous number 4 is -1\n",
            "The sum of current number 6 and previous number 5 is -1\n",
            "The sum of current number 7 and previous number 6 is -1\n",
            "The sum of current number 8 and previous number 7 is -1\n",
            "The sum of current number 9 and previous number 8 is -1\n",
            "The sum of current number 10 and previous number 9 is -1\n"
          ]
        }
      ]
    },
    {
      "cell_type": "markdown",
      "source": [
        "5.Write a Python program to print only those numbers which are divisible of 5"
      ],
      "metadata": {
        "id": "XIcv8DURDmvG"
      }
    },
    {
      "cell_type": "code",
      "source": [
        "l = int(input('Enter the limit'))\n",
        "num = []\n",
        "#input the elements\n",
        "for i in range(1,l+1):\n",
        "  x = int(input('Enter the list elements'))\n",
        "  num.append(x)\n",
        "  #printing number divisible by 5\n",
        "  for j in num:\n",
        "     if j%5==0:print(j)"
      ],
      "metadata": {
        "colab": {
          "base_uri": "https://localhost:8080/"
        },
        "id": "jlbhcWrUDP7X",
        "outputId": "5dfa834d-08ad-421e-ebdf-535fa286a2b5"
      },
      "execution_count": 11,
      "outputs": [
        {
          "output_type": "stream",
          "name": "stdout",
          "text": [
            "Enter the limit5\n",
            "Enter the list elements6\n",
            "Enter the list elements35\n",
            "35\n",
            "Enter the list elements22\n",
            "35\n",
            "Enter the list elements10\n",
            "35\n",
            "10\n",
            "Enter the list elements4\n",
            "35\n",
            "10\n"
          ]
        }
      ]
    },
    {
      "cell_type": "markdown",
      "source": [
        "6.Write a Python program to check whether a number is prime or not"
      ],
      "metadata": {
        "id": "4-PTLd4eFSZx"
      }
    },
    {
      "cell_type": "code",
      "source": [
        "#inputing number\n",
        "num = int(input('Enter the number: '))\n",
        "\n",
        "#checking prime or not\n",
        "if num > 1:\n",
        "   for i in range(2,num):\n",
        "       if (num % i) == 0:\n",
        "           print(num,\"is not a prime number\")\n",
        "           break\n",
        "   else:\n",
        "       print(num,\"is a prime number\")\n",
        "\n",
        "else:\n",
        "   print('The number is zero')"
      ],
      "metadata": {
        "colab": {
          "base_uri": "https://localhost:8080/"
        },
        "id": "quk1ld31298t",
        "outputId": "2e44316a-bd38-46e1-a446-14453ff81d10"
      },
      "execution_count": 12,
      "outputs": [
        {
          "output_type": "stream",
          "name": "stdout",
          "text": [
            "Enter the number: 0\n",
            "The number is zero\n"
          ]
        }
      ]
    },
    {
      "cell_type": "markdown",
      "source": [],
      "metadata": {
        "id": "4_QS83oIGpVs"
      }
    },
    {
      "cell_type": "markdown",
      "source": [
        "7. Write a Python program to reverse a list using for loop."
      ],
      "metadata": {
        "id": "KIpl2wDi4d3s"
      }
    },
    {
      "cell_type": "code",
      "source": [
        "l1 = []\n",
        "\n",
        "num = int(input(\"Enter the number of list elements: \"))\n",
        "for i in range(1, num + 1):\n",
        "    value = int(input(\"Please enter the %d element of list : \" %i))\n",
        "    l1.append(value)\n",
        "\n",
        "print('\\nActual list', l1)\n",
        "l1.reverse()\n",
        "print(\"\\nReversed List =  \", l1)"
      ],
      "metadata": {
        "colab": {
          "base_uri": "https://localhost:8080/"
        },
        "id": "sqEW_mpJ4Yj7",
        "outputId": "44a7722a-bb1f-4a19-f06f-f385a3dd557d"
      },
      "execution_count": 13,
      "outputs": [
        {
          "output_type": "stream",
          "name": "stdout",
          "text": [
            "Enter the number of list elements: 3\n",
            "Please enter the 1 element of list : 5\n",
            "Please enter the 2 element of list : 6\n",
            "Please enter the 3 element of list : 73\n",
            "\n",
            "Actual list [5, 6, 73]\n",
            "\n",
            "Reversed List =   [73, 6, 5]\n"
          ]
        }
      ]
    },
    {
      "cell_type": "code",
      "source": [
        "#Method 2\n",
        "l1 = []\n",
        "l2=[]\n",
        "\n",
        "\n",
        "num = int(input(\"Enter the number of list elements: \"))\n",
        "for i in range(1, num + 1):\n",
        "    value = int(input(\"Please enter the %d element of list : \" %i))\n",
        "    l1.append(value)\n",
        "\n",
        "for item in reversed(l1):\n",
        "    l2.append(item)\n",
        "print(l2)"
      ],
      "metadata": {
        "colab": {
          "base_uri": "https://localhost:8080/"
        },
        "id": "TKIqHZHH57VE",
        "outputId": "85431627-bf9e-417e-b4a9-5df30db99587"
      },
      "execution_count": 14,
      "outputs": [
        {
          "output_type": "stream",
          "name": "stdout",
          "text": [
            "Enter the number of list elements: 3\n",
            "Please enter the 1 element of list : 1\n",
            "Please enter the 2 element of list : 2\n",
            "Please enter the 3 element of list : 3\n",
            "[3, 2, 1]\n"
          ]
        }
      ]
    },
    {
      "cell_type": "markdown",
      "source": [
        "8. Write a Python program to print the following pattern."
      ],
      "metadata": {
        "id": "CkEF_F9w78po"
      }
    },
    {
      "cell_type": "code",
      "source": [
        "#inputting number of rows\n",
        "num = int(input(\"Enter the number of rows: \"))\n",
        "\n",
        "#outer loop to handle number of rows\n",
        "for i in range(0, num):\n",
        "    # inner loop to handle number of columns. values is changing according to outer loop\n",
        "        for j in range(0, i + 1):\n",
        "            # printing stars\n",
        "            print(\"* \", end=\"\")\n",
        "\n",
        "        # ending line after each row\n",
        "        print()"
      ],
      "metadata": {
        "colab": {
          "base_uri": "https://localhost:8080/"
        },
        "id": "TXYnY8Bt7_Lp",
        "outputId": "cf6dbf50-d4a2-4e92-fa78-efefbaadbe72"
      },
      "execution_count": 15,
      "outputs": [
        {
          "output_type": "stream",
          "name": "stdout",
          "text": [
            "Enter the number of rows: 5\n",
            "* \n",
            "* * \n",
            "* * * \n",
            "* * * * \n",
            "* * * * * \n"
          ]
        }
      ]
    },
    {
      "cell_type": "markdown",
      "source": [
        "9. Write a Python program to find the maximum of three numbers"
      ],
      "metadata": {
        "id": "ur1zr2BR8ibB"
      }
    },
    {
      "cell_type": "code",
      "source": [
        "a=int(input('Enter a '))\n",
        "b=int(input('Enter b '))\n",
        "c=int(input('Enter c '))\n",
        "if (a>b) and (a>c):\n",
        "  print('Larger is',a)\n",
        "elif (b>a) and (b>c):\n",
        "  print('Larger is',b)\n",
        "elif(c>a) and (c>b):\n",
        "  print('Larger is',c)"
      ],
      "metadata": {
        "colab": {
          "base_uri": "https://localhost:8080/"
        },
        "id": "rGEHcIgT8sYt",
        "outputId": "082afcd2-c75d-4877-f895-b6c3d7d904e6"
      },
      "execution_count": 16,
      "outputs": [
        {
          "output_type": "stream",
          "name": "stdout",
          "text": [
            "Enter a 5\n",
            "Enter b 6\n",
            "Enter c 8\n",
            "Larger is 8\n"
          ]
        }
      ]
    },
    {
      "cell_type": "markdown",
      "source": [
        "10. Write a Python program to construct the following pattern, using a\n",
        "nested for loop."
      ],
      "metadata": {
        "id": "OviO2jxS8s0V"
      }
    },
    {
      "cell_type": "code",
      "source": [
        "#inputing the number\n",
        "num = int(input('Enter the maximum * needed: '))\n",
        "\n",
        "for i in range(num):\n",
        "    for j in range(i):\n",
        "        print ('* ', end=\"\")\n",
        "    print('')\n",
        "\n",
        "for i in range(num,0,-1):\n",
        "    for j in range(i):\n",
        "        print('* ', end=\"\")\n",
        "    print('')"
      ],
      "metadata": {
        "colab": {
          "base_uri": "https://localhost:8080/"
        },
        "id": "7CFUkq5r6hwI",
        "outputId": "e882aa9c-904c-4e13-be76-c6d36c975ed9"
      },
      "execution_count": 17,
      "outputs": [
        {
          "output_type": "stream",
          "name": "stdout",
          "text": [
            "Enter the maximum * needed: 6\n",
            "\n",
            "* \n",
            "* * \n",
            "* * * \n",
            "* * * * \n",
            "* * * * * \n",
            "* * * * * * \n",
            "* * * * * \n",
            "* * * * \n",
            "* * * \n",
            "* * \n",
            "* \n"
          ]
        }
      ]
    },
    {
      "cell_type": "markdown",
      "source": [
        "**PRACTICE PROBLEMS 2**"
      ],
      "metadata": {
        "id": "DyI51ePAMhK3"
      }
    },
    {
      "cell_type": "markdown",
      "source": [
        "1. Write a Python program to accept a string value from the user and display\n",
        "the count of each character in that string"
      ],
      "metadata": {
        "id": "T8F9iWMAn8JN"
      }
    },
    {
      "cell_type": "code",
      "source": [
        "string = input(\"Enter a string: \")\n",
        "char_count = {}\n",
        "\n",
        "# Count the frequency of each character in the string\n",
        "for char in string:\n",
        "    if char in char_count:\n",
        "        char_count[char] += 1\n",
        "    else:\n",
        "        char_count[char] = 1\n",
        "\n",
        "# Display the count of each character\n",
        "for char, count in char_count.items():\n",
        "    print(char,':',count)"
      ],
      "metadata": {
        "colab": {
          "base_uri": "https://localhost:8080/"
        },
        "id": "sd1cvRyAn9fL",
        "outputId": "21bd4ad7-ece8-4986-b26f-3bf19b055f3f"
      },
      "execution_count": 18,
      "outputs": [
        {
          "output_type": "stream",
          "name": "stdout",
          "text": [
            "Enter a string: John\n",
            "J : 1\n",
            "o : 1\n",
            "h : 1\n",
            "n : 1\n"
          ]
        }
      ]
    },
    {
      "cell_type": "markdown",
      "source": [
        "2. Write a Python function to find the maximum of three numbers"
      ],
      "metadata": {
        "id": "AfG2oco6pF4n"
      }
    },
    {
      "cell_type": "code",
      "source": [
        "def max_of_three(num1, num2, num3):\n",
        "    if num1 >= num2 and num1 >= num3:\n",
        "        return num1\n",
        "    elif num2 >= num1 and num2 >= num3:\n",
        "        return num2\n",
        "    else:\n",
        "        return num3"
      ],
      "metadata": {
        "id": "L5P6OEfHoa0y"
      },
      "execution_count": 20,
      "outputs": []
    },
    {
      "cell_type": "code",
      "source": [
        "a = int(input('Enter first number: '))\n",
        "b = int(input('Enter second number: '))\n",
        "c = int(input('Enter third number: '))\n",
        "max_num = max_of_three(a, b, c)\n",
        "print('The maximum of three numbers is: ', max_num)"
      ],
      "metadata": {
        "colab": {
          "base_uri": "https://localhost:8080/"
        },
        "id": "qM3s8x9xpPFv",
        "outputId": "921bfd47-628e-4d36-803f-96113069fb7a"
      },
      "execution_count": 21,
      "outputs": [
        {
          "output_type": "stream",
          "name": "stdout",
          "text": [
            "Enter first number: 12\n",
            "Enter second number: 5\n",
            "Enter third number: 19\n",
            "The maximum of three numbers is:  19\n"
          ]
        }
      ]
    },
    {
      "cell_type": "markdown",
      "source": [
        "3. Write a Python function called exponent(base,exp) that returns an\n",
        "integer value of base raises to the power of exp"
      ],
      "metadata": {
        "id": "A_bYivjzqC6P"
      }
    },
    {
      "cell_type": "code",
      "source": [
        "def exponent(base, exp):\n",
        "    result = 1\n",
        "    for i in range(exp):\n",
        "        result *= base\n",
        "    return result"
      ],
      "metadata": {
        "id": "wD7uDLqBpkvj"
      },
      "execution_count": 22,
      "outputs": []
    },
    {
      "cell_type": "code",
      "source": [
        "base = int(input('Enter base number: '))\n",
        "exp = int(input('Enter exponent number: '))\n",
        "\n",
        "result = exponent(base, exp)\n",
        "\n",
        "print(base, 'to the power of', exp, 'is', result)"
      ],
      "metadata": {
        "colab": {
          "base_uri": "https://localhost:8080/"
        },
        "id": "zgpp3cw0q0g8",
        "outputId": "e00769fe-349a-4e3a-bc8f-4d4426fbc8f5"
      },
      "execution_count": 23,
      "outputs": [
        {
          "output_type": "stream",
          "name": "stdout",
          "text": [
            "Enter base number: 2\n",
            "Enter exponent number: 3\n",
            "2 to the power of 3 is 8\n"
          ]
        }
      ]
    },
    {
      "cell_type": "markdown",
      "source": [
        "4. Write a Python function that takes a positive integer and returns the sum\n",
        "of the cube of all the positive integers smaller than the specified number."
      ],
      "metadata": {
        "id": "kuraA7rwrPH5"
      }
    },
    {
      "cell_type": "code",
      "source": [
        "def sum_of_cubes(n):\n",
        "    # Initialize the sum to 0\n",
        "    cube_sum = 0\n",
        "    # Iterate over all positive integers smaller than n\n",
        "    for i in range(1, n):\n",
        "        # Add the cube of i to the sum\n",
        "        cube_sum += i**3\n",
        "    # Return the final sum\n",
        "    return cube_sum"
      ],
      "metadata": {
        "id": "rzXYx0jyrIgH"
      },
      "execution_count": 24,
      "outputs": []
    },
    {
      "cell_type": "code",
      "source": [
        "n = int(input('Enter the number: '))\n",
        "\n",
        "sum_cubes = sum_of_cubes(n)\n",
        "\n",
        "print(\"The sum of the cubes of all positive integers smaller than\",n, \"is\",sum_cubes)"
      ],
      "metadata": {
        "colab": {
          "base_uri": "https://localhost:8080/"
        },
        "id": "W-r79xemrw60",
        "outputId": "2714f1e9-cee8-4c71-847c-b2cc5d56bb3b"
      },
      "execution_count": 25,
      "outputs": [
        {
          "output_type": "stream",
          "name": "stdout",
          "text": [
            "Enter the number: 4\n",
            "The sum of the cubes of all positive integers smaller than 4 is 36\n"
          ]
        }
      ]
    },
    {
      "cell_type": "markdown",
      "source": [
        "5. Write a Python program which iterates from 1 to 10. For multiples of 2,\n",
        "print “Fizz” instead of the number and for the multiples of 5, print “Buzz”.\n",
        "For numbers which are multiples of both 2 and 5, print “FizzBuzz”."
      ],
      "metadata": {
        "id": "DaaEte37sHM2"
      }
    },
    {
      "cell_type": "code",
      "source": [
        "for i in range(1, 11):\n",
        "    if i % 2 == 0 and i % 5 == 0:\n",
        "        print(\"FizzBuzz\")\n",
        "    elif i % 2 == 0:\n",
        "        print(\"Fizz\")\n",
        "    elif i % 5 == 0:\n",
        "        print(\"Buzz\")\n",
        "    else:\n",
        "        print(i)"
      ],
      "metadata": {
        "colab": {
          "base_uri": "https://localhost:8080/"
        },
        "id": "UjRNhOCXsB9T",
        "outputId": "52278664-d33e-459c-8e3d-241fc94e65c2"
      },
      "execution_count": 26,
      "outputs": [
        {
          "output_type": "stream",
          "name": "stdout",
          "text": [
            "1\n",
            "Fizz\n",
            "3\n",
            "Fizz\n",
            "Buzz\n",
            "Fizz\n",
            "7\n",
            "Fizz\n",
            "9\n",
            "FizzBuzz\n"
          ]
        }
      ]
    },
    {
      "cell_type": "markdown",
      "source": [
        "6. Write a Python program to find the most frequent item in a list of\n",
        "numbers"
      ],
      "metadata": {
        "id": "K7N5nOh6sqAM"
      }
    },
    {
      "cell_type": "code",
      "source": [
        "def most_frequent(numbers):\n",
        "    # Create an empty dictionary to store the count of each number\n",
        "    count = {}\n",
        "    # Iterate over the list of numbers\n",
        "    for num in numbers:\n",
        "        # If the number is not in the dictionary, add it with a count of 1\n",
        "        if num not in count:\n",
        "            count[num] = 1\n",
        "        # If the number is already in the dictionary, increment its count\n",
        "        else:\n",
        "            count[num] += 1\n",
        "    # Find the number with the highest count\n",
        "    max_count = max(count.values())\n",
        "    # Create a list of all numbers with the highest count\n",
        "    most_frequent_nums = [num for num, freq in count.items() if freq == max_count]\n",
        "    # Return the list of most frequent numbers\n",
        "    return most_frequent_nums"
      ],
      "metadata": {
        "id": "XCPxF3P2skQ5"
      },
      "execution_count": 27,
      "outputs": []
    },
    {
      "cell_type": "code",
      "source": [
        "numbers = [1, 2, 3, 2, 1, 3, 2, 3, 4, 4, 4, 4]\n",
        "\n",
        "most_frequent_nums = most_frequent(numbers)\n",
        "\n",
        "print(\"The most frequent number(s) in the list is/are: \",most_frequent_nums)"
      ],
      "metadata": {
        "colab": {
          "base_uri": "https://localhost:8080/"
        },
        "id": "Oh71F4Nys-D2",
        "outputId": "a07f3bd5-9960-438e-b474-bb9280f5ecc9"
      },
      "execution_count": 28,
      "outputs": [
        {
          "output_type": "stream",
          "name": "stdout",
          "text": [
            "The most frequent number(s) in the list is/are:  [4]\n"
          ]
        }
      ]
    },
    {
      "cell_type": "markdown",
      "source": [
        "7. Write a Python program to find the sum of squares of the numbers in a\n",
        "list"
      ],
      "metadata": {
        "id": "SkhopYKwtmhf"
      }
    },
    {
      "cell_type": "code",
      "source": [
        "def sum_of_squares(numbers):\n",
        "    # Initialize the sum to 0\n",
        "    total = 0\n",
        "    # Iterate over the list of numbers\n",
        "    for num in numbers:\n",
        "        # Add the square of the number to the sum\n",
        "        total += num ** 2\n",
        "    # Return the sum\n",
        "    return total"
      ],
      "metadata": {
        "id": "3vI6OoMYtMLW"
      },
      "execution_count": 29,
      "outputs": []
    },
    {
      "cell_type": "code",
      "source": [
        "numbers = [1, 2, 3, 4, 5]\n",
        "\n",
        "total = sum_of_squares(numbers)\n",
        "\n",
        "print(\"The sum of squares of the numbers is: \",total)"
      ],
      "metadata": {
        "colab": {
          "base_uri": "https://localhost:8080/"
        },
        "id": "bQGeCINVt0uN",
        "outputId": "cd26b470-4732-4b65-ef3e-1bfe26dd2ea2"
      },
      "execution_count": 30,
      "outputs": [
        {
          "output_type": "stream",
          "name": "stdout",
          "text": [
            "The sum of squares of the numbers is:  55\n"
          ]
        }
      ]
    },
    {
      "cell_type": "markdown",
      "source": [
        "8. Write a Python program using for loop that will iterate from 1 to 15. For\n",
        "each iteration, check if the current number is odd or even, and display the\n",
        "message to the screen as odd or even."
      ],
      "metadata": {
        "id": "542opbv3uAmQ"
      }
    },
    {
      "cell_type": "code",
      "source": [
        "for i in range(1, 16):\n",
        "    # Check if the number is odd or even\n",
        "    if i % 2 == 0:\n",
        "        print(i,\" is even\")\n",
        "    else:\n",
        "        print(i,\" is odd\")"
      ],
      "metadata": {
        "colab": {
          "base_uri": "https://localhost:8080/"
        },
        "id": "r5d2eGRCt5e9",
        "outputId": "61d1ad82-87bb-4798-b31a-12a11320e58d"
      },
      "execution_count": 31,
      "outputs": [
        {
          "output_type": "stream",
          "name": "stdout",
          "text": [
            "1  is odd\n",
            "2  is even\n",
            "3  is odd\n",
            "4  is even\n",
            "5  is odd\n",
            "6  is even\n",
            "7  is odd\n",
            "8  is even\n",
            "9  is odd\n",
            "10  is even\n",
            "11  is odd\n",
            "12  is even\n",
            "13  is odd\n",
            "14  is even\n",
            "15  is odd\n"
          ]
        }
      ]
    },
    {
      "cell_type": "markdown",
      "source": [
        "9. Write a Python program to convert temperatures to and from Celsius\n",
        "Fahrenheit. [Formula: c/5=f-32/9 where c=temperature in Celsius and f=\n",
        "temperature in Fahrenheit.]"
      ],
      "metadata": {
        "id": "M4o-T4DjuUuy"
      }
    },
    {
      "cell_type": "code",
      "source": [
        "def celsius_to_fahrenheit(celsius):\n",
        "    # Convert Celsius to Fahrenheit\n",
        "    fahrenheit = (celsius * 9/5) + 32\n",
        "    return fahrenheit\n",
        "\n",
        "def fahrenheit_to_celsius(fahrenheit):\n",
        "    # Convert Fahrenheit to Celsius\n",
        "    celsius = (fahrenheit - 32) * 5/9\n",
        "    return celsius\n",
        "\n",
        "# Example usage\n",
        "celsius = 37\n",
        "fahrenheit = celsius_to_fahrenheit(celsius)\n",
        "print(celsius, \"degrees Celsius is equal to\",fahrenheit,\" degrees Fahrenheit\")\n",
        "\n",
        "fahrenheit = 98.6\n",
        "celsius = fahrenheit_to_celsius(fahrenheit)\n",
        "print(fahrenheit,\"degrees Fahrenheit is equal to\",celsius,\"degrees Celsius\")"
      ],
      "metadata": {
        "colab": {
          "base_uri": "https://localhost:8080/"
        },
        "id": "SvejBml2uSX1",
        "outputId": "dc34f885-5d96-457c-ccfa-09790108dadc"
      },
      "execution_count": 32,
      "outputs": [
        {
          "output_type": "stream",
          "name": "stdout",
          "text": [
            "37 degrees Celsius is equal to 98.6  degrees Fahrenheit\n",
            "98.6 degrees Fahrenheit is equal to 37.0 degrees Celsius\n"
          ]
        }
      ]
    },
    {
      "cell_type": "markdown",
      "source": [],
      "metadata": {
        "id": "CNYOfOFjLjiw"
      }
    },
    {
      "cell_type": "markdown",
      "source": [
        "10. Write a Python function to calculate the factorial of a number (a\n",
        "nonnegative integer). The function accepts the number as an argument."
      ],
      "metadata": {
        "id": "rPSM4EXZvErI"
      }
    },
    {
      "cell_type": "code",
      "source": [
        "def factorial(n):\n",
        "    # Initialize the result to 1\n",
        "    result = 1\n",
        "\n",
        "    # Calculate the factorial of n\n",
        "    for i in range(1, n+1):\n",
        "        result *= i\n",
        "\n",
        "    # Return the result\n",
        "    return result"
      ],
      "metadata": {
        "id": "7u1WrQAtvAV2"
      },
      "execution_count": 33,
      "outputs": []
    },
    {
      "cell_type": "code",
      "source": [
        "# Calculate the factorial\n",
        "n = int(input('Enter the number: '))\n",
        "result = factorial(n)\n",
        "print(\"The factorial of\",n,\" is\", result)"
      ],
      "metadata": {
        "colab": {
          "base_uri": "https://localhost:8080/"
        },
        "id": "GQLJ1CuBvRzE",
        "outputId": "dbeb9a21-9f59-46f2-aa6b-fd105c5a6ce3"
      },
      "execution_count": 34,
      "outputs": [
        {
          "output_type": "stream",
          "name": "stdout",
          "text": [
            "Enter the number: 5\n",
            "The factorial of 5  is 120\n"
          ]
        }
      ]
    }
  ]
}